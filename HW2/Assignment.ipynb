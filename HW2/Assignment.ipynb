{
 "cells": [
  {
   "cell_type": "markdown",
   "id": "5cf87d12",
   "metadata": {},
   "source": [
    "# Linear Programming exercise"
   ]
  },
  {
   "cell_type": "markdown",
   "id": "05cfdf71",
   "metadata": {},
   "source": [
    "### Author\n",
    "\n",
    "Matya Aydin | Sciper: 388895"
   ]
  },
  {
   "cell_type": "code",
   "execution_count": 1,
   "id": "edf8159f",
   "metadata": {},
   "outputs": [],
   "source": [
    "### Do the imports -- no need to change this\n",
    "import numpy as np\n",
    "import matplotlib.pyplot as plt\n",
    "import os\n",
    "os.environ['KMP_DUPLICATE_LIB_OK']='True'\n",
    "import sys\n",
    "sys.path.insert(0, \"src/\")\n",
    "from environment import GridWorldEnvironment\n",
    "from MDPsolver import MDPsolver\n",
    "from utils import *\n",
    "from plot import *\n",
    "%load_ext autoreload\n",
    "%autoreload 2"
   ]
  },
  {
   "cell_type": "markdown",
   "id": "0853b76d",
   "metadata": {},
   "source": [
    "***Before starting, we recall the use of the gridworld environment.***\n",
    "\n",
    "The gridworld environment is instantiated via the class `GridWorldEnvironment`. \n",
    "\n",
    "***It takes 4 input values:***\n",
    "- `reward_mode` : Integer between 0 and 3 for different reward profiles,\n",
    "- `size`: Gridworld size,\n",
    "- `prop`: Probability assigned to the event that the agent does not follow the chosen action but another one selected uniformely at random,\n",
    "- `gamma`: Discount factor of the environment.\n",
    "\n",
    "***Interface of a Gridworld instance:***\n",
    "- `print(gridworld.n_states)` # return the number of states\n",
    "- `print(gridworld.n_actions)` # return the number of actions\n",
    "- `print(gridworld.r)` # return a matrix where each element indicates the reward corresponding to each (state, action) pair.\n",
    "- `print(gridworld.gamma)` # return the discount factor\n",
    "- `print(gridworld.sparseT[action])` # Input: action, Return: a matrix containing the state-to-state transition probabilities for the action passed as input.\n",
    "\n",
    "<img src=\"src/vis_gridworld.png\" alt=\"fishy\" class=\"bg-primary\" width=\"400px\">"
   ]
  },
  {
   "cell_type": "code",
   "execution_count": 2,
   "id": "b67ed7c6",
   "metadata": {},
   "outputs": [
    {
     "name": "stdout",
     "output_type": "stream",
     "text": [
      "Reward function: \n",
      " [[   0.    0.    0.    0.]\n",
      " [  -1.   -1.   -1.   -1.]\n",
      " [  -1.   -1.   -1.   -1.]\n",
      " [  -1.   -1.   -1.   -1.]\n",
      " [-100. -100. -100. -100.]\n",
      " [  -1.   -1.   -1.   -1.]\n",
      " [  -1.   -1.   -1.   -1.]\n",
      " [  -1.   -1.   -1.   -1.]\n",
      " [  -1.   -1.   -1.   -1.]]\n"
     ]
    }
   ],
   "source": [
    "reward_mode = 2 # see below to visualize the reward function\n",
    "size = 3 # size of the gridworld (3x3)\n",
    "prop = 0.1 # proportion of randomly taken steps due to noise in the environment \n",
    "gamma=0.99 # discount factor\n",
    "\n",
    "gridworld = GridWorldEnvironment(reward_mode, size, prop=0, gamma=gamma)\n",
    "print('Reward function: \\n', gridworld.r) # visualize the reward function"
   ]
  },
  {
   "cell_type": "markdown",
   "id": "89c00def",
   "metadata": {},
   "source": [
    "We will use a solver to compute the **optimal value function** to measure the suboptimality of the policies produced by our algorithms.\n",
    "\n",
    "To access the optimal value function use `solver.v`."
   ]
  },
  {
   "cell_type": "code",
   "execution_count": 3,
   "id": "f5c609f1",
   "metadata": {},
   "outputs": [],
   "source": [
    "solver = MDPsolver(gridworld) # call the MDPsolver class\n",
    "solver.value_iteration() # call the value iteration method to find V^* once"
   ]
  },
  {
   "cell_type": "markdown",
   "id": "9bcae6be",
   "metadata": {},
   "source": [
    "## Ex 1: Solving the Primal [20 points]"
   ]
  },
  {
   "cell_type": "markdown",
   "id": "7327f0a2",
   "metadata": {},
   "source": [
    "We will leverage the powerful `scipy` library to solve **Linear Programs (LPs)**. Below we give an example of using the [linprog module](https://docs.scipy.org/doc/scipy/reference/generated/scipy.optimize.linprog.html) to solve a simple LP:\n",
    "\n",
    "\\begin{aligned}\n",
    " & \\min_{x := \\begin{bmatrix}\n",
    "x_0  \\\\\n",
    "x_1\n",
    "\\end{bmatrix}  \\in \\mathbb{R}^2}  \\begin{bmatrix}\n",
    "-1  \\\\\n",
    "4\n",
    "\\end{bmatrix} ^\\top x\n",
    "\\\\&  \\text{s.t.}  \\begin{bmatrix}\n",
    "-3 & 1 \\\\\n",
    "1 & 2 \n",
    "\\end{bmatrix} \\mathbb{x} \\le  \\begin{bmatrix}\n",
    "6  \\\\\n",
    "4 \n",
    "\\end{bmatrix} , \\quad  x_1\\ge -3 \\,.\n",
    "\\end{aligned}\n",
    "\n",
    "The **code example below will be instructive** when you later construct the LP corresponding to the MDP."
   ]
  },
  {
   "cell_type": "code",
   "execution_count": 4,
   "id": "9bf2f971",
   "metadata": {},
   "outputs": [
    {
     "name": "stdout",
     "output_type": "stream",
     "text": [
      "The solution is  [10. -3.]\n",
      "Optimization terminated successfully.\n"
     ]
    },
    {
     "name": "stderr",
     "output_type": "stream",
     "text": [
      "C:\\Users\\matya\\AppData\\Local\\Temp\\ipykernel_21268\\2674117054.py:8: DeprecationWarning: `method='simplex'` is deprecated and will be removed in SciPy 1.11.0. Please use one of the HiGHS solvers (e.g. `method='highs'`) in new code.\n",
      "  res = linprog([-1, 4],\n"
     ]
    }
   ],
   "source": [
    "from scipy.optimize import linprog # import the linear programming solver from scipy\n",
    "\n",
    "# Note that the bounds argument in linprog is a  sequence of (min, max) pairs for each element in x, defining the minimum and maximum values.\n",
    "x0_bounds = (None, None)\n",
    "x1_bounds = (-3, None)\n",
    "\n",
    "# call linear programming solver:\n",
    "res = linprog([-1, 4], \n",
    "              A_ub=[[-3, 1], [1, 2]], \n",
    "              b_ub=[6, 4], \n",
    "              bounds=[x0_bounds, x1_bounds],\n",
    "              method=\"simplex\")\n",
    "print('The solution is ', res.x) # access and print the solution\n",
    "print(res.message) # print the message of the solver (e.g., terminated successfully)"
   ]
  },
  {
   "cell_type": "markdown",
   "id": "88733424",
   "metadata": {},
   "source": [
    "Now we are ready to use `linprog` to solve the LP problem in gridworld.\n",
    "\n",
    "We define a distribution `mu` over the states."
   ]
  },
  {
   "cell_type": "code",
   "execution_count": 5,
   "id": "f37d5a6b",
   "metadata": {},
   "outputs": [],
   "source": [
    "mu = np.ones((gridworld.n_states,1))/gridworld.n_states # initialize mu"
   ]
  },
  {
   "cell_type": "markdown",
   "id": "de463e84",
   "metadata": {},
   "source": [
    "Next, we need to **instantiate the constraints of the primal problem**. Notice that `scipy` requires the inequality constraints in the form $A_{ub} x \\leq b_{ub}$.\n",
    "\n",
    "\n",
    "To this end, we rewrite the constraint $EV \\geq \\gamma P V + r$ in the form expected by `scipy`."
   ]
  },
  {
   "cell_type": "code",
   "execution_count": 6,
   "id": "f976651a",
   "metadata": {},
   "outputs": [],
   "source": [
    "def build_matrix(env):\n",
    "    \n",
    "    E = np.kron(np.eye(env.n_states), np.ones(env.n_actions)).T # build the matrix E\n",
    "    P = env.T.transpose((1,0,2)).reshape(env.n_states*env.n_actions, -1) # build the matrix P\n",
    "    return env.gamma*P - E"
   ]
  },
  {
   "cell_type": "markdown",
   "id": "fa8f95df",
   "metadata": {},
   "source": [
    "(Side remark: The indexing in the matrices `E` and `P` here is slightly different from the one in the lecture. This does not change any of the formulas from the slides since both matrices are indexed in the same way, consistently throughout this exercise. You may ignore this comment.)"
   ]
  },
  {
   "cell_type": "markdown",
   "id": "807e8803",
   "metadata": {},
   "source": [
    "Then, use the function `linprog` of `scipy` to solve the dual problem and show that you can retrieve the same $V^\\star$ computed with the solver and stored in `solver.v`"
   ]
  },
  {
   "cell_type": "code",
   "execution_count": 7,
   "id": "205e0b2d",
   "metadata": {},
   "outputs": [
    {
     "name": "stderr",
     "output_type": "stream",
     "text": [
      "C:\\Users\\matya\\AppData\\Local\\Temp\\ipykernel_21268\\3933023212.py:3: DeprecationWarning: `method='simplex'` is deprecated and will be removed in SciPy 1.11.0. Please use one of the HiGHS solvers (e.g. `method='highs'`) in new code.\n",
      "  primal_out = linprog(mu,\n"
     ]
    }
   ],
   "source": [
    "# Call linear programming solver with the correct inputs:\n",
    "\n",
    "primal_out = linprog(mu, \n",
    "                     A_ub=build_matrix(gridworld), \n",
    "                     b_ub= -gridworld.r.flatten(),\n",
    "                     method=\"simplex\",\n",
    "                     bounds=(None, None))"
   ]
  },
  {
   "cell_type": "markdown",
   "id": "4812b1e9",
   "metadata": {},
   "source": [
    "(*Hint:* Check slide 23 for the matrix form (or slide 8), lecture 3 to recall the primal.)"
   ]
  },
  {
   "cell_type": "markdown",
   "id": "3eb37bce",
   "metadata": {},
   "source": [
    "We can access the solution of the primal LP using `primal_out.x`. Compare the error with the value of `solver.v`."
   ]
  },
  {
   "cell_type": "code",
   "execution_count": 8,
   "id": "b40e60d2",
   "metadata": {},
   "outputs": [
    {
     "data": {
      "text/plain": [
       "4.111484296790486e-14"
      ]
     },
     "execution_count": 8,
     "metadata": {},
     "output_type": "execute_result"
    }
   ],
   "source": [
    "np.linalg.norm(primal_out.x - solver.v) # plot 2-norm"
   ]
  },
  {
   "cell_type": "markdown",
   "id": "dd39bed8",
   "metadata": {},
   "source": [
    "***Question***\n",
    "\n",
    "By running the following two cells, plot (in matrix form) `mu` and the difference between `solver.v` and `primal_out.x`. Then, answer the following question: Can we ensure that `np.linalg.norm(primal_out.x - solver.v)` is zero (up to numerical errors) for the current value of `mu`?  "
   ]
  },
  {
   "cell_type": "code",
   "execution_count": 9,
   "id": "4c27ded7",
   "metadata": {},
   "outputs": [
    {
     "data": {
      "text/plain": [
       "<matplotlib.colorbar.Colorbar at 0x2cb857bb340>"
      ]
     },
     "execution_count": 9,
     "metadata": {},
     "output_type": "execute_result"
    },
    {
     "data": {
      "image/png": "[encoded data removed]",
      "text/plain": [
       "<Figure size 480x480 with 2 Axes>"
      ]
     },
     "metadata": {},
     "output_type": "display_data"
    }
   ],
   "source": [
    "plt.matshow(mu.reshape(size, size), cmap='PuBu_r', vmin=0,vmax=1) # plot distribution mu over states \n",
    "plt.colorbar()"
   ]
  },
  {
   "cell_type": "code",
   "execution_count": 10,
   "id": "3fa96200",
   "metadata": {},
   "outputs": [
    {
     "data": {
      "text/plain": [
       "<matplotlib.colorbar.Colorbar at 0x2cb87b295d0>"
      ]
     },
     "execution_count": 10,
     "metadata": {},
     "output_type": "execute_result"
    },
    {
     "data": {
      "image/png": "[encoded data removed]",
      "text/plain": [
       "<Figure size 480x480 with 2 Axes>"
      ]
     },
     "metadata": {},
     "output_type": "display_data"
    }
   ],
   "source": [
    "plt.matshow((solver.v - primal_out.x).reshape(size, size), cmap='PuBu_r') # plot the difference between the value function and the solution of the linear program\n",
    "plt.colorbar()"
   ]
  },
  {
   "cell_type": "markdown",
   "id": "dd31ed2c",
   "metadata": {},
   "source": [
    "**Answer**\n",
    "\n",
    "<font color=\"blue\">\n",
    "\n",
    "The difference in norm between `solver.v` and `primal_out.x` is zero up to numerical error ($10^{-14}$), by looking at the plots, we can even see that this difference is exactly zero for some coordinates so yes, we can ensure that `np.linalg.norm(primal_out.x - solver.v)` is zero (up to numerical errors) for the current value of `mu`.\n",
    "\n",
    "Additionally, we know that the output of `solver.v`, $V^{\\star}$ satisfies the constraint and is element-wise minimal (due to the component-wise monotonicity of $T^{\\pi}$) compared to all other candidates $V$ satisfying the constraint. By minimizing $\\mu^{\\top}V$, with $\\mu > 0$, we minimize with respect to all coordinates, thus giving us $V^{\\star}$"
   ]
  },
  {
   "cell_type": "markdown",
   "id": "8c7d7807",
   "metadata": {},
   "source": [
    "Next, we repeat the same experiment with a different value of `mu`. \n",
    "\n",
    "Note that we do **not** overwrite `mu` or `primal_out` (but instead have `mu2` and `primal_out2`, since for all other exercises, we will use the original, uniform `mu`.)"
   ]
  },
  {
   "cell_type": "code",
   "execution_count": 11,
   "id": "edc6d251",
   "metadata": {},
   "outputs": [],
   "source": [
    "# overwrite mu with a new distribution:\n",
    "mu2 = np.zeros((gridworld.n_states,1))\n",
    "mu2[-3] = 1"
   ]
  },
  {
   "cell_type": "markdown",
   "id": "d5a01ad8",
   "metadata": {},
   "source": [
    "Fill in the following, as before but for the distribution `mu2`."
   ]
  },
  {
   "cell_type": "code",
   "execution_count": 12,
   "id": "715cd8bd",
   "metadata": {},
   "outputs": [
    {
     "name": "stderr",
     "output_type": "stream",
     "text": [
      "C:\\Users\\matya\\AppData\\Local\\Temp\\ipykernel_21268\\3919351280.py:2: DeprecationWarning: `method='simplex'` is deprecated and will be removed in SciPy 1.11.0. Please use one of the HiGHS solvers (e.g. `method='highs'`) in new code.\n",
      "  primal_out2 = linprog(mu2,\n"
     ]
    }
   ],
   "source": [
    "# solve the LP with the new mu2:\n",
    "primal_out2 = linprog(mu2, \n",
    "                      A_ub=build_matrix(gridworld), \n",
    "                      b_ub=-gridworld.r.flatten(),\n",
    "                      method=\"simplex\",\n",
    "                      bounds=(None, None))"
   ]
  },
  {
   "cell_type": "markdown",
   "id": "62d82f4e",
   "metadata": {},
   "source": [
    "We compare with the value computed by Value Iteration `solver.v`."
   ]
  },
  {
   "cell_type": "code",
   "execution_count": 13,
   "id": "0792291e",
   "metadata": {},
   "outputs": [
    {
     "data": {
      "text/plain": [
       "2.772246430099758"
      ]
     },
     "execution_count": 13,
     "metadata": {},
     "output_type": "execute_result"
    }
   ],
   "source": [
    "np.linalg.norm(primal_out2.x - solver.v) # plot 2-norm"
   ]
  },
  {
   "cell_type": "code",
   "execution_count": 14,
   "id": "4acd0f9b",
   "metadata": {},
   "outputs": [
    {
     "name": "stdout",
     "output_type": "stream",
     "text": [
      "[   0.       -1.       -1.99     -1.     -100.99     -2.9701   -1.99\n",
      "   -1.       -1.99  ] \n",
      " [   0.         -1.         -1.99       -1.       -100.99       -2.9701\n",
      "   -1.99       -2.9701     -3.940399]\n"
     ]
    }
   ],
   "source": [
    "print(primal_out2.x,\"\\n\",solver.v)"
   ]
  },
  {
   "cell_type": "markdown",
   "id": "d7af0f46",
   "metadata": {},
   "source": [
    "Note that now, the optimal solution of the primal LP `primal_out2.x` and the optimal value function `solver.v` do not coincide anymore! \n",
    "\n",
    "This is despite the fact that the optimal value function `solver.v` was computed **right in the beginning**, before we even initialized the `mu` for solving the LP the first time. So `solver.v` is definitely the correct optimal value function for each state."
   ]
  },
  {
   "cell_type": "markdown",
   "id": "49811cdb",
   "metadata": {},
   "source": [
    "**Question:**\n",
    "\n",
    "Why does it make sense that the two values do not coincide?"
   ]
  },
  {
   "cell_type": "markdown",
   "id": "4f37cf64",
   "metadata": {},
   "source": [
    "**Answer:**\n",
    "\n",
    "<font color=\"blue\">\n",
    "\n",
    "\n",
    "We can see that only the last two values do not coincide and that `solver.v` achieves lower values in these components. We know from the properties of $V^{\\star}$ that it it the smallest $V$ component-wise satisfying the constraints. This $V^{\\star}$ is supposed to be found by minimizing the dot product between a strictly positive direction $\\mu$ and a candidate $V$ satisfying the constraints. However, we do not find $V^{\\star}$ anymore because the only component that we minimise with $\\mu_2$ is the $7^{th}$ coordinate, so we do not have any guarantee that the $V$ that we found by solving this second linear programming is going to be $V^{\\star}$, which explains why the two values do not coincide."
   ]
  },
  {
   "cell_type": "markdown",
   "id": "b8bfc16b",
   "metadata": {},
   "source": [
    "***Question***\n",
    "\n",
    "We plot again in matrix form `mu2`, `solver.v` and `primal_out2.x`. Then answer the following: What can happen in the states where `mu2 = 0`?"
   ]
  },
  {
   "cell_type": "code",
   "execution_count": 15,
   "id": "c19a256e",
   "metadata": {},
   "outputs": [
    {
     "data": {
      "text/plain": [
       "<matplotlib.colorbar.Colorbar at 0x2cb856afe50>"
      ]
     },
     "execution_count": 15,
     "metadata": {},
     "output_type": "execute_result"
    },
    {
     "data": {
      "image/png": "[encoded data removed]",
      "text/plain": [
       "<Figure size 480x480 with 2 Axes>"
      ]
     },
     "metadata": {},
     "output_type": "display_data"
    }
   ],
   "source": [
    "plt.matshow(mu2.reshape(size, size), cmap='PuBu_r', vmin=0,vmax=1) # plot distribution mu over states\n",
    "plt.colorbar()"
   ]
  },
  {
   "cell_type": "code",
   "execution_count": 16,
   "id": "6170993f",
   "metadata": {},
   "outputs": [
    {
     "data": {
      "text/plain": [
       "<matplotlib.colorbar.Colorbar at 0x2cb88077070>"
      ]
     },
     "execution_count": 16,
     "metadata": {},
     "output_type": "execute_result"
    },
    {
     "data": {
      "image/png": "[encoded data removed]",
      "text/plain": [
       "<Figure size 480x480 with 2 Axes>"
      ]
     },
     "metadata": {},
     "output_type": "display_data"
    }
   ],
   "source": [
    "plt.matshow((solver.v - primal_out2.x).reshape(size, size), cmap='PuBu_r') # plot the difference between the value function and the solution of the linear program\n",
    "plt.colorbar()"
   ]
  },
  {
   "cell_type": "markdown",
   "id": "2b1b8475",
   "metadata": {},
   "source": [
    "**Answer:**\n",
    "\n",
    "<font color=\"blue\">\n",
    "\n",
    "\n",
    "In the states where $\\mu_2$ is zero, the value of $V(s)$ can be arbitrarly large as long as the constraints are satisfied as they do not appear in the objective function, which leads to a misinterpretation of the value of the state leading to coordinates different than the ones in $V^{\\star}$."
   ]
  },
  {
   "cell_type": "markdown",
   "id": "d632636c",
   "metadata": {},
   "source": [
    "# Ex 2: Solving the Dual [20 points]"
   ]
  },
  {
   "cell_type": "markdown",
   "id": "15361f21",
   "metadata": {},
   "source": [
    "Try now to solve the dual using again the `linprog` routine of scipy. \n",
    "\n",
    "Note that we did **not** overwrite `mu` (i.e. it is still uniform, and `primal_out.x` is the primal solution for this `mu`).\n",
    "\n",
    "(*Hint:* Check slide 23 for the matrix form (or slide 11), lecture 3 to recall the dual.)"
   ]
  },
  {
   "cell_type": "code",
   "execution_count": 17,
   "id": "39e5b869",
   "metadata": {},
   "outputs": [
    {
     "name": "stderr",
     "output_type": "stream",
     "text": [
      "C:\\Users\\matya\\AppData\\Local\\Temp\\ipykernel_21268\\1376134001.py:2: DeprecationWarning: `method='simplex'` is deprecated and will be removed in SciPy 1.11.0. Please use one of the HiGHS solvers (e.g. `method='highs'`) in new code.\n",
      "  dual_out = linprog(-gridworld.r.flatten(),\n"
     ]
    }
   ],
   "source": [
    "# solve the dual LP with the correct inputs:\n",
    "dual_out = linprog(-gridworld.r.flatten(), \n",
    "              A_eq= -build_matrix(gridworld).T, \n",
    "              b_eq= (1 - gridworld.gamma)*mu,\n",
    "              method=\"simplex\",\n",
    "              bounds=(0, None))"
   ]
  },
  {
   "cell_type": "markdown",
   "id": "03cc02c2",
   "metadata": {},
   "source": [
    "We verify that **strong duality** holds:"
   ]
  },
  {
   "cell_type": "code",
   "execution_count": 18,
   "id": "3e3759aa",
   "metadata": {},
   "outputs": [
    {
     "data": {
      "text/plain": [
       "8.326672684688674e-17"
      ]
     },
     "execution_count": 18,
     "metadata": {},
     "output_type": "execute_result"
    }
   ],
   "source": [
    "dual_value = dual_out.x.dot(gridworld.r.reshape(gridworld.n_states*gridworld.n_actions)) # compute the optimal value of the dual\n",
    "primal_value = (1 - gridworld.gamma)*primal_out.x.dot(mu)[0] # compute the optimal value of the primal\n",
    "abs(primal_value - dual_value) # print the absolute difference between the primal and dual optimum"
   ]
  },
  {
   "cell_type": "markdown",
   "id": "1467eaed",
   "metadata": {},
   "source": [
    "Note that the solution of the dual problem gives us the **optimal occupancy measure**. Given this:\n",
    "\n",
    "1. Obtain the **greedy policy** given the solution of the primal problem.\n",
    "\n",
    "2. **Evaluate** this policy and **compare** the obtained values with the solution of the dual problem."
   ]
  },
  {
   "cell_type": "code",
   "execution_count": 19,
   "id": "b36859e6",
   "metadata": {},
   "outputs": [],
   "source": [
    "def evaluate_policy(pi, env, tol=1e-10):\n",
    "    \"\"\"Implementation of policy evaluation through iteratively applying using a certain policy \n",
    "    Args:\n",
    "        pi: a policy\n",
    "        env: environment\n",
    "        tol: a scalar to dermerminate whether the policy evaluation convergences\n",
    "    Returns:\n",
    "        v: an array with the values of the actions chosen\n",
    "        q: an array with the q values    \n",
    "    \"\"\"\n",
    "    v = np.zeros(env.n_states)\n",
    "    q = np.zeros((env.n_states, env.n_actions))\n",
    "    while True:\n",
    "        v_old = np.copy(v)\n",
    "        for a in range(env.n_actions):\n",
    "            q[:, a] = env.r[:, a] + env.gamma * env.sparseT[a].dot(v)\n",
    "        for s in range(env.n_states):\n",
    "            action_taken = pi[s]\n",
    "            v[s] = q[s,action_taken]\n",
    "        if np.linalg.norm(v - v_old) < tol:\n",
    "            break\n",
    "    return v, q"
   ]
  },
  {
   "cell_type": "code",
   "execution_count": 20,
   "id": "ff915616",
   "metadata": {},
   "outputs": [
    {
     "name": "stdout",
     "output_type": "stream",
     "text": [
      "4.111484296790486e-14\n"
     ]
    }
   ],
   "source": [
    "pi = dual_out.x.reshape(gridworld.n_states,gridworld.n_actions).argmax(axis=1) # side remark/explanation: We know a deterministic optimal policy exists. It turns out that we can find it by checking for which component a lambda_opt(s,a) is > 0, and then setting pi_opt(a|s) = 1 for that action.\n",
    "v,q = evaluate_policy(pi,gridworld) # evaluate the policy\n",
    "print(np.linalg.norm(v-primal_out.x)) # print the 2-norm between the value function and the solution of the primal LP"
   ]
  },
  {
   "cell_type": "markdown",
   "id": "b55e6075",
   "metadata": {},
   "source": [
    "***Questions***\n",
    "\n",
    "Derive the dual from the primal. That is, show that it indeed the dual linear program of the primal program (and that thus the values coincide by strong duality).\n",
    "\n",
    "(*Hint:* You may consult the supplementary material of lecture 3, slide 9 and 10 in the appendix to read about strong duality in LPs. Make sure to explain step by step why it works.)"
   ]
  },
  {
   "cell_type": "markdown",
   "id": "a1ca7485",
   "metadata": {},
   "source": [
    "***Answer:***\n",
    "\n",
    "<font color=\"blue\">\n",
    "\n",
    "\n",
    "Starting from the primal formulation:\n",
    "\n",
    "$$\\min_{V \\in \\mathbb{R}^{\\vert \\mathcal{S} \\vert}} (1 - \\gamma) \\mu^{\\top} V \\iff \\max_{V \\in \\mathbb{R}^{\\vert \\mathcal{S} \\vert}} -(1 - \\gamma) \\mu^{\\top} V$$\n",
    "\n",
    "such that:\n",
    "\n",
    "$$EV \\ge r +  \\gamma P V \\iff (\\gamma P  - E)V \\le -r \\; \\forall s \\in \\mathcal{S}, \\forall a \\in \\mathcal{A}$$\n",
    "\n",
    "We can identify each term in the primal form given in slide 9:\n",
    "\n",
    "$$\\max_{x} c^{\\top} x$$\n",
    "\n",
    "such that:\n",
    "\n",
    "$$Ax \\le b$$\n",
    "\n",
    "$$c = -(1 - \\gamma) \\mu$$\n",
    "$$A = \\gamma P - E$$\n",
    "$$b = -r$$\n",
    "\n",
    "We can substitute each term in the dual form given in slide 9 to obtain the dual formulation:\n",
    "\n",
    "$$\\min_{y} b^{\\top} y$$\n",
    "\n",
    "such that:\n",
    "\n",
    "$$A^{\\top} y = c$$\n",
    "$$y \\ge 0$$\n",
    "\n",
    "We indeed get (using $y = \\lambda$ and the same trick as above to go from a min to a max):\n",
    "\n",
    "\n",
    "$$\\max_{\\lambda \\in \\mathbb{R}^{\\vert \\mathcal{S} \\vert \\vert \\mathcal{A} \\vert}} \\lambda^{\\top} r$$\n",
    "\n",
    "such that:\n",
    "\n",
    "$$E^{\\top} \\lambda = (1 - \\gamma) \\mu + \\gamma P^{\\top} \\lambda$$\n",
    "\n",
    "$$ \\lambda \\ge 0 \\; \\forall s \\in \\mathcal{S}, \\forall a \\in \\mathcal{A}$$\n",
    "\n",
    "\n",
    "To ensure that strong duality holds, we can apply the strong duality theorem. We must check two things beforehand:\n",
    "* The primal is feasible as we know that $V^{\\star}$ exists and satisfies the constraints.\n",
    "* The primal is bounded accross all feasible solutions: $(1 - \\gamma) \\mu^{\\top} V$ is bounded as $0 < (1 - \\gamma) < \\infty$, $0 < \\mu < \\infty$ and all $V$ 's satisfying the constraints are also bounded because all rewards in our environments are bounded.\n",
    "\n",
    "\n",
    "As the primal is feasible and bounded accross all feasible solutions, the strong duality theorem ensures that strong duality between the primal and the dual holds."
   ]
  },
  {
   "cell_type": "markdown",
   "id": "b27f4964",
   "metadata": {},
   "source": [
    "# Ex 3: Implement REPS with known dynamics [20 points]"
   ]
  },
  {
   "cell_type": "markdown",
   "id": "fb495427-eda0-4c26-b105-cb6908cf3360",
   "metadata": {},
   "source": [
    "In this exercize you will **implement the REPS algorithm** as we have seen in the lectures.\n",
    "Namely, recall the following **details of the algorithm**:\n",
    "\n",
    "1. **Initialization** (uniform): $\\forall s, a, \\lambda_0(s,a) = \\frac{1}{|\\mathcal{S}||\\mathcal{A}|}$;\n",
    "\n",
    "2. **REPS loss computation**: $\\mathcal{L}(\\lambda, V) = (1-\\gamma) \\langle \\mu, V \\rangle + \\frac{1}{\\eta}\\log{\\langle \\lambda, \\exp{(\\eta(r+\\gamma P V - E V))} \\rangle}$;\n",
    "\n",
    "3. **Solving for the values**: $V_{k}=\\text{argmin}_{V}~{\\mathcal{L}(\\lambda_k, V)}$, for this we will use the `minimize` function from `scipy.optimize`;\n",
    "\n",
    "4. **Updating the occupancy measure:** $\\lambda_{k+1} \\propto \\lambda_k \\cdot \\exp{(\\eta (r+\\gamma P V_{k} - E V_{k}))}$ (unnormalized, you then must make sure it sums to 1 in every step)."
   ]
  },
  {
   "cell_type": "code",
   "execution_count": 21,
   "id": "5677e677",
   "metadata": {},
   "outputs": [],
   "source": [
    "from scipy.optimize import minimize\n",
    "from scipy.special import logsumexp, softmax\n",
    "from plot import plot_log_lines, plot_lines"
   ]
  },
  {
   "cell_type": "code",
   "execution_count": 22,
   "id": "6da94e68",
   "metadata": {},
   "outputs": [],
   "source": [
    "def reps_loss(lambda_, V, eta, initial): # return the reps loss\n",
    "    rew = gridworld.r.flatten()\n",
    "    mat = build_matrix(gridworld)\n",
    "    return (1 - gridworld.gamma) * np.dot(initial.flatten(), V) + (1 / eta) * np.log(np.dot(lambda_, np.exp(eta*(rew + np.dot(mat, V)))))\n",
    "\n",
    "def minimize_reps_loss(lambda_, eta, initial, max_iter=1000): # find minimizer of the reps loss\n",
    "    loss = lambda V : reps_loss(lambda_, V, eta, initial)\n",
    "    V = minimize(loss, np.zeros(gridworld.n_states), method = \"CG\", options={'maxiter': max_iter})\n",
    "    return V.x"
   ]
  },
  {
   "cell_type": "code",
   "execution_count": 23,
   "id": "1de14ff3",
   "metadata": {},
   "outputs": [],
   "source": [
    "K = 40 # number of iterations\n",
    "mu = np.ones((gridworld.n_states,1))/gridworld.n_states # initialize mu again to the uniform distribution (not needed, just to be safe)\n",
    "\n",
    "#initialize the variables\n",
    "subopts = []\n",
    "feasibility_errors = []\n",
    "lambda_ = np.ones(gridworld.n_states*gridworld.n_actions)/gridworld.n_states/gridworld.n_actions\n",
    "iterates = [lambda_]\n",
    "subopts.append(-lambda_.T.dot(gridworld.r.reshape(gridworld.n_states*gridworld.n_actions))+(1-gridworld.gamma)*mu.T.dot(solver.v)[0])\n",
    "feasibility_error = np.linalg.norm(build_matrix(gridworld).T.dot(lambda_) + (1-gridworld.gamma)*mu)\n",
    "feasibility_errors.append(feasibility_error)\n",
    "\n",
    "# REPS: iterate over K steps\n",
    "for k in range(K):\n",
    "    eta = 1/np.sqrt(k+1) # set the step size\n",
    "    \n",
    "    V = minimize_reps_loss(lambda_, eta, mu) # ??? # minimize the reps loss\n",
    "    delta = gridworld.r.reshape(gridworld.n_states*gridworld.n_actions) + build_matrix(gridworld).dot(V) # compute the advantage function\n",
    "    \n",
    "    new_lambda_ = lambda_ * np.exp(eta*(gridworld.r.flatten() + np.dot(build_matrix(gridworld), V))) # update the lambda #???\n",
    "    new_lambda_ /= np.sum(new_lambda_) # normalize the lambda_\n",
    "    lambda_ = new_lambda_\n",
    "    \n",
    "    # store the suboptimality and feasibility errors:\n",
    "    subopt = -lambda_.T.dot(gridworld.r.reshape(gridworld.n_states*gridworld.n_actions))+(1-gridworld.gamma)*mu.T.dot(solver.v)[0]\n",
    "    feasibility_error = np.linalg.norm(build_matrix(gridworld).T.dot(lambda_) + (1-gridworld.gamma)*mu)\n",
    "    subopts.append(subopt)\n",
    "    feasibility_errors.append(feasibility_error)\n",
    "    iterates.append(lambda_)"
   ]
  },
  {
   "cell_type": "markdown",
   "id": "7d4c936e",
   "metadata": {},
   "source": [
    "**Plot of the suboptimality of iterates produced by REPS**"
   ]
  },
  {
   "cell_type": "code",
   "execution_count": 24,
   "id": "381f9a20",
   "metadata": {},
   "outputs": [
    {
     "data": {
      "image/png": "[encoded data removed]",
      "text/plain": [
       "<Figure size 800x550 with 1 Axes>"
      ]
     },
     "metadata": {},
     "output_type": "display_data"
    }
   ],
   "source": [
    "plot_lines([np.array(subopts)], [r\"Subopt of $\\lambda^t$\"], [\"Iteration\", \"Subopt\"], \"figs\", \"subopts.pdf\", show = True)"
   ]
  },
  {
   "cell_type": "markdown",
   "id": "197f1188",
   "metadata": {},
   "source": [
    "**Theoretical Derivation of REPS**\n",
    "\n",
    "Prove that the iterates of REPS are equivalent to the iterates produced by the following updates:\n",
    "\n",
    "$$ \\lambda_{k+1} = \\mathrm{argmax}_{\\lambda} \\left( \\langle \\lambda, r \\rangle - \\frac{1}{\\eta} \\left\\langle \\lambda,~ \\log\\left(\\frac{\\lambda}{\\lambda_k}\\right) \\right\\rangle \\right) \\quad \\text{s.t.} \\quad E^T \\lambda = \\gamma P^T \\lambda + (1 - \\gamma) \\mu. $$\n",
    "\n",
    "(*Hint:* Check the slides of lecture if you do not know where to start.)"
   ]
  },
  {
   "cell_type": "markdown",
   "id": "550ec124",
   "metadata": {},
   "source": [
    "**Answer:**\n",
    "\n",
    "<font color=\"blue\">\n",
    "\n",
    "\n",
    "Using the lagrangian formulation and the definition of KL-divergence, we can turn this constrained maximisation into a max-min problem and rewrite:\n",
    "\n",
    "$$\\lambda_{k+1} = \\argmax_{\\lambda} \\min_{V} \\langle \\lambda, r \\rangle - \\frac{1}{\\eta} D_{KL}(\\lambda, \\lambda_{k})\n",
    "+ \\langle V, \\gamma P^{\\top} \\lambda - E^{\\top} \\lambda \\rangle + (1 - \\gamma) \\langle V, \\mu \\rangle$$\n",
    "\n",
    "By taking the gradient with respect to $\\lambda$, by optimality conditions, it must hold that\n",
    "\n",
    "\n",
    "$$r + \\gamma PV - EV - \\frac{1}{\\eta} \\nabla_\\lambda D_{KL}(\\lambda, \\lambda_{k}) = 0$$\n",
    "\n",
    "Solving for $\\lambda$ gives us $\\lambda^V$ (corresponding to $\\lambda_{k+1}$ in the REPS algorithm).\n",
    "\n",
    "$$\\lambda^V_k = \\frac{\\lambda_{k} \\odot \\exp(\\eta(r + \\gamma P V_k - E V_k))}{\\sum_{s,a} \\lambda_{k} \\odot \\exp(\\eta(r + \\gamma P V_k - E V_k))(s, a)}$$\n",
    "\n",
    "By leveraging KKT conditions, we must now solve\n",
    "\n",
    "$$\n",
    "\\min_V \\langle \\lambda^V_k, r \\rangle + \\langle V, \\gamma P^T \\lambda^V_k - E^T \\lambda^V_k \\rangle + (1 - \\gamma) \\langle V, \\mu \\rangle - \\frac{1}{\\eta} D_{\\text{KL}}(\\lambda^V_k, \\lambda_{k})\n",
    "$$\n",
    "\n",
    "With \n",
    "\n",
    "$$\n",
    "D_{\\text{KL}}(\\lambda^V_k, \\lambda_{k}) = \\sum_{(s, a)} \\log(\\frac{\\lambda^V_k(s, a)}{\\lambda_k(s,a)}) = \\sum_{(s, a)} \\lambda^V_k \\log(\\exp(\\eta(r + \\gamma P V_k - E V_k)(s, a)) - \\sum_{(s, a)} \\lambda^V_k \\log(\\sum_{s^\\prime, a^\\prime} \\lambda_k \\exp(\\eta(r + \\gamma P V_k - E V_k) (s^\\prime,a^\\prime))\n",
    "$$\n",
    "\n",
    "\n",
    "The first term can be simplified as\n",
    "\n",
    "$$\n",
    "\\sum_{(s, a)} \\lambda^V_k \\log(\\exp(\\eta(r + \\gamma P V_k - E V_k)(s, a)) = \\eta \\langle \\lambda^V_k, r \\rangle + \\eta \\langle \\lambda^V_k, \\gamma P V_k - E V_k \\rangle\n",
    "$$\n",
    "\n",
    "As we consider $-\\frac{1}{\\eta} D_{\\text{KL}}(\\lambda^V_k, \\lambda_{k})$, they cancel with the two terms in the lagrangian.\n",
    "\n",
    "For the second term:\n",
    "\n",
    "$$\n",
    "\\sum_{(s, a)} \\lambda^V_k \\log(\\sum_{s^\\prime, a^\\prime} \\lambda_k \\exp(\\eta(r + \\gamma P V_k - E V_k) (s^\\prime,a^\\prime))) = \\log(\\sum_{s^\\prime, a^\\prime} \\lambda_k \\exp(\\eta(r + \\gamma P V_k - E V_k) (s^\\prime,a^\\prime))) \\sum_{(s, a)} \\lambda^V_k = \\langle \\lambda_k,\\exp(\\eta(r + \\gamma P V_k - E V_k)) \\rangle\n",
    "$$\n",
    "\n",
    "Where the last inequality comes from the fact that $\\sum_{(s, a)} \\lambda^V_k = 1$.\n",
    "\n",
    "Substituting these terms in the lagrangian, we indeed get\n",
    "\n",
    "$$\\min_V (1-\\gamma) \\langle \\mu, V \\rangle + \\frac{1}{\\eta}\\log{\\langle \\lambda_k, \\exp{(\\eta(r+\\gamma P V - E V))} \\rangle}$$\n",
    "\n",
    "\n",
    "Which gives us the same iterates as in REPS."
   ]
  },
  {
   "cell_type": "markdown",
   "id": "691d8297",
   "metadata": {},
   "source": [
    "**Plot the constraints violation**\n",
    "\n",
    "Plot the value of $||(E^T - \\gamma P^T)\\lambda - (1 - \\gamma) \\mu || $, varying the parameter `maxiter` of the `scipy.minimize` function.\n",
    "\n",
    "(To be clear: in the code above, modify this line ```minimize(loss, np.zeros(gridworld.n_states), method = \"CG\", options={'maxiter': 1000})``` and plot for varying `maxiter`.)"
   ]
  },
  {
   "cell_type": "code",
   "execution_count": 25,
   "id": "58c11789",
   "metadata": {},
   "outputs": [
    {
     "data": {
      "text/plain": [
       "<matplotlib.legend.Legend at 0x2cb85ac2830>"
      ]
     },
     "execution_count": 25,
     "metadata": {},
     "output_type": "execute_result"
    },
    {
     "data": {
      "image/png": "[encoded data removed]",
      "text/plain": [
       "<Figure size 800x550 with 1 Axes>"
      ]
     },
     "metadata": {},
     "output_type": "display_data"
    }
   ],
   "source": [
    "# you may use this cell to experiment with the parameter and keep the one above the same if it helps you to keep the overview\n",
    "\n",
    "def reps(max_iter):\n",
    "    K = 40 # number of iterations\n",
    "    mu = np.ones((gridworld.n_states,1))/gridworld.n_states # initialize mu again to the uniform distribution (not needed, just to be safe)\n",
    "\n",
    "    #initialize the variables\n",
    "    subopts = []\n",
    "    feasibility_errors = []\n",
    "    lambda_ = np.ones(gridworld.n_states*gridworld.n_actions)/gridworld.n_states/gridworld.n_actions\n",
    "    iterates = [lambda_]\n",
    "    subopts.append(-lambda_.T.dot(gridworld.r.reshape(gridworld.n_states*gridworld.n_actions))+(1-gridworld.gamma)*mu.T.dot(solver.v)[0])\n",
    "    feasibility_error = np.linalg.norm(build_matrix(gridworld).T.dot(lambda_) + (1-gridworld.gamma)*mu)\n",
    "    feasibility_errors.append(feasibility_error)\n",
    "\n",
    "    # REPS: iterate over K steps\n",
    "    for k in range(K):\n",
    "        eta = 1/np.sqrt(k+1) # set the step size\n",
    "        \n",
    "        V = minimize_reps_loss(lambda_, eta, mu, max_iter=max_iter) # ??? # minimize the reps loss\n",
    "        delta = gridworld.r.reshape(gridworld.n_states*gridworld.n_actions) + build_matrix(gridworld).dot(V) # compute the advantage function # ??? je dois l'utiliser?\n",
    "        \n",
    "        new_lambda_ = lambda_ * np.exp(eta*(gridworld.r.flatten() + np.dot(build_matrix(gridworld), V))) # update the lambda #???\n",
    "        new_lambda_ /= np.sum(new_lambda_) # normalize the lambda_\n",
    "        lambda_ = new_lambda_\n",
    "        \n",
    "        # store the suboptimality and feasibility errors:\n",
    "        subopt = -lambda_.T.dot(gridworld.r.reshape(gridworld.n_states*gridworld.n_actions))+(1-gridworld.gamma)*mu.T.dot(solver.v)[0]\n",
    "        feasibility_error = np.linalg.norm(build_matrix(gridworld).T.dot(lambda_) + (1-gridworld.gamma)*mu)\n",
    "        subopts.append(subopt)\n",
    "        feasibility_errors.append(feasibility_error)\n",
    "        iterates.append(lambda_)\n",
    "    return feasibility_errors\n",
    "\n",
    "\n",
    "iters = [5, 10, 25, 50, 100, 1000, 10000]\n",
    "\n",
    "for it in iters:\n",
    "    plt.plot(range(41), reps(it), label=f\"maxiter = {it}\")\n",
    "\n",
    "plt.xlabel(\"iteration\")\n",
    "plt.ylabel(r\"$|| (E^T - \\gamma P^T)\\lambda - (1 - \\gamma) \\mu ||$\")\n",
    "plt.legend(loc='upper right')"
   ]
  },
  {
   "cell_type": "code",
   "execution_count": 26,
   "id": "9684136e",
   "metadata": {},
   "outputs": [
    {
     "data": {
      "image/png": "[encoded data removed]",
      "text/plain": [
       "<Figure size 800x550 with 1 Axes>"
      ]
     },
     "metadata": {},
     "output_type": "display_data"
    }
   ],
   "source": [
    "plot_lines([np.array(feasibility_errors)], [r\"Constraints violation\"], [\"Iteration\", \"$|| (E^T - \\gamma P^T)\\lambda - (1 - \\gamma) \\mu ||$\"], \"figs\", \"constraints.pdf\", show = True)"
   ]
  },
  {
   "cell_type": "markdown",
   "id": "caf6f891",
   "metadata": {},
   "source": [
    "**Question**"
   ]
  },
  {
   "cell_type": "markdown",
   "id": "0a897960",
   "metadata": {},
   "source": [
    "Empirically, is the value of $||(E^T - \\gamma P^T)\\lambda - (1 - \\gamma) \\mu || $ higher for high or low values of `maxiter`?\n",
    "\n",
    "Explain why this is the case."
   ]
  },
  {
   "cell_type": "markdown",
   "id": "7e958bf4",
   "metadata": {},
   "source": [
    "**Answer:**\n",
    "\n",
    "<font color = \"blue\">\n",
    "\n",
    "\n",
    "The value of $||(E^T - \\gamma P^T)\\lambda - (1 - \\gamma) \\mu || $ is higher for lower values of `maxiter` (for values of 5 and 10, all higher values converge in the end). This can be interpreted from the lagrangian formulation derived above: the minimisation with respect to $V$ is the step that ensures that we respect the constraint. By putting less emphasize on this step (reducing `maxiter`), we violate the constraint."
   ]
  },
  {
   "cell_type": "markdown",
   "id": "d83182d0",
   "metadata": {},
   "source": [
    "**Question:**"
   ]
  },
  {
   "cell_type": "markdown",
   "id": "1f8380c0",
   "metadata": {},
   "source": [
    "Strictly speaking, are the actual iterates $\\lambda_k$ in the implementation above valid occupancy measures? In other words, is $E^T \\lambda_k = \\gamma P^T \\lambda_k + (1 - \\gamma) \\mu$ strictly satisfied for all iterates? Explain why this is (not) the case."
   ]
  },
  {
   "cell_type": "markdown",
   "id": "ee434266",
   "metadata": {},
   "source": [
    "**Answer:**\n",
    "\n",
    "<font color = \"blue\">\n",
    "\n",
    "\n",
    "No, this is not the case, especially for the first iterates and low values of `maxiter`, because we are iteratively updating $\\lambda_k$ to respect the constraint so strictly speaking, there is a residual error.\n"
   ]
  },
  {
   "cell_type": "markdown",
   "id": "e2bbf2d7",
   "metadata": {},
   "source": [
    "**Plot of the suboptimality of the policies extracted from the $\\lambda^k$'s**"
   ]
  },
  {
   "cell_type": "markdown",
   "id": "632524e9",
   "metadata": {},
   "source": [
    "*Extract the policies from the $\\lambda^k$-iterates:* $$\\pi_{\\lambda^k}(a |s) = \\frac{\\lambda_k(s,a)} {\\sum_{a\\in\\mathcal{A}}\\lambda_k(s,a)}.$$"
   ]
  },
  {
   "cell_type": "code",
   "execution_count": 27,
   "id": "f6eae099",
   "metadata": {},
   "outputs": [],
   "source": [
    "def extract_policies_from_occ_measures(occ_measures): # extract the policies from the occupancy measures\n",
    "    policies = []\n",
    "    for occ_measure in occ_measures:\n",
    "        policy = np.zeros((gridworld.n_states, gridworld.n_actions)) # initialize the policy\n",
    "        occ_measure = occ_measure.reshape(gridworld.n_states, -1) # reshape the occupancy measure\n",
    "        states_occ_measure = occ_measure.sum(axis=1) # compute the occupancy measure over states (not state-action pairs)\n",
    "        for s in range(gridworld.n_states):\n",
    "            policy[s] = occ_measure[s] / states_occ_measure[s] # compute the policy #???\n",
    "        policies.append(policy)\n",
    "        \n",
    "    return policies"
   ]
  },
  {
   "cell_type": "code",
   "execution_count": 28,
   "id": "ab66825e",
   "metadata": {},
   "outputs": [],
   "source": [
    "policies = extract_policies_from_occ_measures(iterates)"
   ]
  },
  {
   "cell_type": "markdown",
   "id": "f2d33fac",
   "metadata": {},
   "source": [
    "*Extract the occupancy measures from the policies:* $$ \\lambda_{\\pi_{\\lambda^k}}(s,a) = (1 - \\gamma)\\sum^{\\infty}_{t=0} \\gamma^t \\mathbb{P}[s_t=s,a_t=a | s_0 \\sim \\mu, \\pi_{\\lambda^k}].$$"
   ]
  },
  {
   "cell_type": "code",
   "execution_count": 29,
   "id": "c9afc1e5",
   "metadata": {},
   "outputs": [],
   "source": [
    "def extract_occ_measures_from_policies(policies): # extract the occupancy measures from the policies (we do not require you to follow this)\n",
    "    occ_measures = []\n",
    "    for policy in policies:\n",
    "        v = - (1 - gridworld.gamma)*(mu.repeat(gridworld.n_actions,axis=1)*policy).reshape(gridworld.n_states*gridworld.n_actions)\n",
    "        matrix = np.eye(gridworld.n_states*gridworld.n_actions)\n",
    "        T_pi = np.expand_dims(gridworld.T.transpose((1,0,2)),axis=3).repeat(gridworld.n_actions, axis=3)\n",
    "        pi_tensor = np.expand_dims(policy, axis=(0,1)).repeat(T_pi.shape[0], axis=0).repeat(T_pi.shape[1], axis=1)\n",
    "        T_pi = T_pi*pi_tensor\n",
    "        matrix = gridworld.gamma*T_pi.reshape(gridworld.n_states*gridworld.n_actions,gridworld.n_states*gridworld.n_actions)- matrix\n",
    "        occ_measure = np.linalg.solve(matrix.T, v)\n",
    "        occ_measures.append(occ_measure)\n",
    "    return occ_measures"
   ]
  },
  {
   "cell_type": "code",
   "execution_count": 30,
   "id": "98f4ce86",
   "metadata": {},
   "outputs": [],
   "source": [
    "occ_measures = extract_occ_measures_from_policies(policies)"
   ]
  },
  {
   "cell_type": "markdown",
   "id": "b7018c82",
   "metadata": {},
   "source": [
    "*Check whether $\\lambda_{\\pi_{\\lambda_k}} = \\lambda_k$*:"
   ]
  },
  {
   "cell_type": "code",
   "execution_count": 31,
   "id": "aa079032",
   "metadata": {},
   "outputs": [],
   "source": [
    "# compute the difference between the occupancy measures and the iterates\n",
    "diff_occ_measures = [np.linalg.norm(occ_measure - iterate) for occ_measure, iterate in zip(occ_measures, iterates)] "
   ]
  },
  {
   "cell_type": "code",
   "execution_count": 32,
   "id": "0e838a4d",
   "metadata": {},
   "outputs": [
    {
     "data": {
      "image/png": "[encoded data removed]",
      "text/plain": [
       "<Figure size 800x550 with 1 Axes>"
      ]
     },
     "metadata": {},
     "output_type": "display_data"
    }
   ],
   "source": [
    "# plot the difference between the occupancy measures and the iterates\n",
    "plot_lines([np.array(diff_occ_measures), np.array(feasibility_errors)/(1 - gridworld.gamma)], [r\"Diff. Occupancy measures\", r\"$(1-\\gamma)^{-1}\\cdot$ Constraints violation\"], [\"Iteration\", \"$|| \\lambda - \\lambda_{\\pi_\\lambda}||$\"], \"figs\", \"diff_occ_measures.pdf\", show = True)"
   ]
  },
  {
   "cell_type": "markdown",
   "id": "5868c099",
   "metadata": {},
   "source": [
    "**Questions**"
   ]
  },
  {
   "cell_type": "markdown",
   "id": "aea8c3bd",
   "metadata": {},
   "source": [
    "- How does the norm of the difference $|| \\lambda^k - \\lambda_{\\pi_{\\lambda^k}}||$ relate to the constraint violation $|| (E^T - \\gamma P^T)\\lambda^k - (1 - \\gamma) \\mu ||$ ?\n",
    "\n",
    "- If $|| (E^T - \\gamma P^T)\\lambda^k - (1 - \\gamma) \\mu ||$ is small, can you conclude that $|| \\lambda^k - \\lambda_{\\pi_{\\lambda^k}}||$ is also small ? \n",
    "\n",
    "*Hint: For both, you can answer leveraging the result in Lemma 3 of https://arxiv.org/pdf/2112.14004.pdf*\n",
    "\n",
    "- As a consequence how is $|| \\lambda^k - \\lambda_{\\pi_{\\lambda^k}}||$ affected by the value of `maxiter`?\n",
    "\n",
    "*Hint:* Recall your empirical finding about the impact of `maxiter` (above)."
   ]
  },
  {
   "cell_type": "markdown",
   "id": "0fd89588",
   "metadata": {},
   "source": [
    "***Answer:***\n",
    "\n",
    "<font color=\"blue\">\n",
    "\n",
    "\n",
    "\n",
    "Using *Lemma 3* with $\\lambda^k$ and by multiplying both sides by $(1 - \\gamma)$:\n",
    "\n",
    "$$ (1- \\gamma) \\Vert \\lambda^k - \\lambda_{\\pi_{\\lambda^k}} \\Vert_1 \\le \\Vert (1 - \\gamma)\\mu - (E - \\gamma P)^{\\top} \\lambda_k\\Vert_1$$\n",
    "\n",
    "Which means that $ (1 - \\gamma)^{-1} \\Vert (1 - \\gamma)\\mu - (E - \\gamma P)^{\\top} \\lambda_k\\Vert_1$ upper bounds $\\Vert \\lambda^k - \\lambda_{\\pi_{\\lambda^k}} \\Vert_1$ and allows us to conclude that if $|| (E^T - \\gamma P^T)\\lambda^k - (1 - \\gamma) \\mu ||$ is small then $|| \\lambda^k - \\lambda_{\\pi_{\\lambda^k}}||$ is also small.\n",
    "\n",
    "\n",
    "As a consequence, the bigger `maxiter` (any increase is negligeable once we converged), the smaller, $|| \\lambda^k - \\lambda_{\\pi_{\\lambda^k}}||$."
   ]
  },
  {
   "cell_type": "markdown",
   "id": "4f375e05",
   "metadata": {},
   "source": [
    "**Evaluate the extracted policies**\n",
    "\n",
    "In this section, we compute the value functions of the extracted policies which is $V^{\\pi_{\\lambda^k}}$"
   ]
  },
  {
   "cell_type": "code",
   "execution_count": 33,
   "id": "d311a3dd",
   "metadata": {},
   "outputs": [],
   "source": [
    "def evaluate_policy_sequence(policies, env, tol=1e-10):\n",
    "    values = []\n",
    "    for pi in policies:\n",
    "        v = np.zeros(env.n_states) # initialize value function\n",
    "        q = np.zeros((env.n_states, env.n_actions)) #initialize Q-value\n",
    "        while True:\n",
    "            v_old = np.copy(v) # save a copy of value function for the convergence criterion at the step\n",
    "            for a in range(env.n_actions):\n",
    "                q[:, a] = env.r[:, a] + env.gamma * env.sparseT[a].dot(v) #calculate Q-value\n",
    "            for s in range(env.n_states):\n",
    "                v[s] = pi[s].dot(q[s]) #calculate value function by $v(s) = max_a Q(s,a)$\n",
    "            if np.linalg.norm(v - v_old) < tol: # convergence criterion\n",
    "                break\n",
    "        values.append(v)\n",
    "    return values"
   ]
  },
  {
   "cell_type": "code",
   "execution_count": 34,
   "id": "3e8c330c",
   "metadata": {},
   "outputs": [],
   "source": [
    "def check_correctness(policies):\n",
    "    values = evaluate_policy_sequence(policies, gridworld) # evaluate the policies\n",
    "    for policy,v in zip(policies,values):\n",
    "        state_occ_measure = solver.mu_policy(policy, stochastic=True) # compute the state occupancy measure\n",
    "        occ_measure = np.expand_dims(state_occ_measure, axis=1).repeat(gridworld.n_actions, axis=1)*policy\n",
    "        primal = occ_measure.reshape(gridworld.n_states*gridworld.n_actions).dot(gridworld.r.reshape(gridworld.n_states*gridworld.n_actions)) # compute the primal value\n",
    "        dual = (1 - gridworld.gamma)*mu.T.dot(v) # compute the dual value\n",
    "        assert primal - dual < 1e-7\n",
    "    return [ (1 - gridworld.gamma)*mu.T.dot(v) for v in values] # return the values"
   ]
  },
  {
   "cell_type": "markdown",
   "id": "78a4cbf7",
   "metadata": {},
   "source": [
    "**Question**\n",
    "\n",
    "Do you expect $(1 - \\gamma)\\langle \\mu, V^{\\pi_{\\lambda^k}} \\rangle$ to be (approximately) equal to or (very) different from $\\langle \\lambda^k, r \\rangle $? Does the answer depend on the value of `maxiter`?\n",
    "\n",
    "*Hint: Recall that $(1 - \\gamma)\\langle \\mu, V^{\\pi_{\\lambda^k}} \\rangle = \\langle \\lambda_{\\pi_{\\lambda^k}}, r \\rangle $ and argue using your previous answer concerning the term $|| \\lambda^k - \\lambda_{\\pi_{\\lambda^k}}||$.*"
   ]
  },
  {
   "cell_type": "markdown",
   "id": "cccf0be8",
   "metadata": {},
   "source": [
    "**Answer:**\n",
    "\n",
    "<font color = \"blue\">\n",
    "\n",
    "\n",
    "We can bound the difference using the hint:\n",
    "\n",
    "$$ \\vert (1 - \\gamma)\\langle \\mu, V^{\\pi_{\\lambda^k}} \\rangle  - \\langle \\lambda^k, r \\rangle \\vert = \\vert \\langle \\lambda_{\\pi_{\\lambda^k}}, r \\rangle - \\langle \\lambda^k, r \\rangle \\vert = \\vert \\langle \\lambda_{\\pi_{\\lambda^k}} - \\lambda_k , r\\rangle \\vert$$\n",
    "\n",
    "Next, we use Holder's inequality:\n",
    "\n",
    "$$\\vert \\langle \\lambda_{\\pi_{\\lambda^k}} - \\lambda_k , r\\rangle \\vert \\le \\Vert \\lambda_{\\pi_{\\lambda^k}} - \\lambda_k \\Vert_1 \\Vert r \\Vert_{\\infty}$$\n",
    "\n",
    "Using the result from the previous question:\n",
    "\n",
    "$$ \\vert \\langle \\lambda_{\\pi_{\\lambda^k}} - \\lambda_k , r\\rangle \\vert \\le (1 - \\gamma)^{-1} \\Vert (1 - \\gamma)\\mu - (E - \\gamma P)^{\\top} \\lambda_k\\Vert_1 \\Vert r \\Vert_{\\infty}$$\n",
    "\n",
    "Where in our case, $\\Vert r \\Vert_{\\infty} = 100$ and $(1 - \\gamma)^{-1} = 100$.\n",
    "\n",
    "We can conlude that yes, the answer depends on `maxiter` as it affects the value of $\\Vert (1 - \\gamma)\\mu - (E - \\gamma P)^{\\top} \\lambda_k\\Vert_1$: the higher `maxiter` is (up until convergence is reached), the closer $(1 - \\gamma)\\langle \\mu, V^{\\pi_{\\lambda^k}} \\rangle$ and $\\langle \\lambda^k, r \\rangle $ are so if we set `maxiter` such that convergence is reached, $(1 - \\gamma)\\langle \\mu, V^{\\pi_{\\lambda^k}} \\rangle$ and $\\langle \\lambda^k, r \\rangle $ are approximately equal for the entries where $r$ is nonzero as only the absolute value of the inner product is bounded and we do not have a component-wise bound."
   ]
  },
  {
   "cell_type": "code",
   "execution_count": 35,
   "id": "03d75030",
   "metadata": {},
   "outputs": [],
   "source": [
    "policy_values = check_correctness(policies) # check that $(1 - \\gamma)\\langle \\mu, V^{\\pi} \\rangle = \\langle \\lambda_{\\pi}, r \\rangle $ for all policies.\n",
    "policy_subopts = (1 - gridworld.gamma)*mu.T.dot(solver.v) - policy_values # compute the suboptimality of the policies"
   ]
  },
  {
   "cell_type": "markdown",
   "id": "b5352e7c",
   "metadata": {},
   "source": [
    "**Plot the suboptimalities**\n",
    "\n",
    "Plot $(1 - \\gamma)\\langle \\mu, V^{\\pi^\\star}\\rangle - (1 - \\gamma)\\langle \\mu, V^{\\pi_{\\lambda^k}} \\rangle$.\n",
    "\n",
    "Plot $(1 - \\gamma)\\langle \\mu, V^{\\pi^\\star}\\rangle - \\langle \\lambda^k, r \\rangle$."
   ]
  },
  {
   "cell_type": "code",
   "execution_count": 36,
   "id": "8b4ec98f",
   "metadata": {},
   "outputs": [
    {
     "data": {
      "image/png": "[encoded data removed]",
      "text/plain": [
       "<Figure size 800x550 with 1 Axes>"
      ]
     },
     "metadata": {},
     "output_type": "display_data"
    }
   ],
   "source": [
    "plot_lines([np.array(subopts), policy_subopts.flatten()], [r\"Subopt of $\\lambda^t$\", r\"Subopt of $\\pi_{\\lambda^t}$\"], [\"Iteration\", \"Subopt\"], \"figs\", \"subopts.pdf\", show = True)"
   ]
  },
  {
   "cell_type": "markdown",
   "id": "3be8fde8",
   "metadata": {},
   "source": [
    "## Ex 4: Lagrangian methods [ 20 points ]"
   ]
  },
  {
   "cell_type": "markdown",
   "id": "317d5ca9",
   "metadata": {},
   "source": [
    "In this section we compute an optimal policy finding a saddle point of the Lagrangian $\\mathcal{L}(\\lambda, V)$, defined as follows\n",
    "\n",
    "$$\n",
    "\\mathcal{L}(\\lambda, V) = \\langle \\lambda, r \\rangle + \\langle (1 - \\gamma) \\mu + \\gamma P^T \\lambda - E^T \\lambda, V \\rangle .\n",
    "$$\n",
    "\n",
    "Finding a saddle point of the Lagrangian means solving the following problem:\n",
    "\n",
    "$$ \n",
    "\\mathrm{argmax}_{\\lambda \\geq 0} \\min_{V \\in \\mathbb{R}^{|\\mathcal{S}|}} \\mathcal{L}(\\lambda, V).\n",
    "$$\n",
    "\n",
    "By slide 6 in Lecture 3 it should be clear that there exists a saddle point pair $\\lambda^\\star, V^\\star$ such that $|| V^\\star ||_{\\infty} \\leq \\frac{\\max_{s,a} |r(s,a)|}{1 - \\gamma}$. Therefore, we can consider looking for a saddle point over a restricted domain $\\mathcal{V} = \\{ V : ||V||_{\\infty} \\leq \\frac{\\max_{s,a} |r(s,a)|}{1 - \\gamma} \\}$:\n",
    "\n",
    "$$ \n",
    "\\mathrm{argmax}_{\\lambda \\geq 0} \\min_{V \\in \\mathcal{V}} \\mathcal{L}(\\lambda, V).\n",
    "$$\n",
    "\n",
    "At this point we solve this problem with gradient descent ascent updates \n",
    "\n",
    "$$\n",
    "\\lambda^{k+1} \\propto \\lambda^k \\odot \\exp(\\eta_{\\lambda} \\nabla_{\\lambda} \\mathcal{L}(\\lambda^k, V^k)),\n",
    "$$\n",
    "\n",
    "$$\n",
    "V^{k+1} = \\Pi_{\\mathcal{V}}[V^k - \\eta_V \\nabla_{V} \\mathcal{L}(\\lambda^k, V^k)].\n",
    "$$"
   ]
  },
  {
   "cell_type": "markdown",
   "id": "1f5827ef",
   "metadata": {},
   "source": [
    "**Question**: \n",
    "\n",
    "\n",
    "Compute the following gradients:\n",
    "\n",
    "<font color = \"blue\">\n",
    "\n",
    "$$  \\nabla_{\\lambda} \\mathcal{L}(\\lambda^k, V^k) = r + \\gamma PV^k - EV^k $$\n",
    "\n",
    "$$ \\nabla_{V} \\mathcal{L}(\\lambda^k, V^k) = (1 - \\gamma) \\mu + \\gamma P^{\\top} \\lambda^k - E^{\\top} V^k $$"
   ]
  },
  {
   "cell_type": "markdown",
   "id": "59955898",
   "metadata": {},
   "source": [
    "**Question:**\n",
    "\n",
    "Which of the following conditions ensure that the policy $$\\pi_{\\lambda^k}(a |s) = \\frac{\\lambda_k(s,a)} {\\sum_{a\\in\\mathcal{A}}\\lambda^k(s,a)}$$ is $\\epsilon$-suboptimal ?\n",
    "\n",
    "(a) $$\\langle \\lambda^\\star, r \\rangle - \\langle \\lambda^k, r \\rangle \\leq \\epsilon.$$\n",
    "(b) $$(1 - \\gamma)\\langle \\mu, V^\\star \\rangle - \\langle \\mu, V^k \\rangle \\leq \\epsilon.$$\n",
    "(c) $$ \\mathcal{L}(\\lambda^\\star, V^k) - \\mathcal{L}(\\lambda^k, V^{\\pi^{\\lambda^k}}) \\leq \\epsilon.$$\n",
    "\n",
    "Answer (a),(b) or (c)."
   ]
  },
  {
   "cell_type": "markdown",
   "id": "25b35d95",
   "metadata": {},
   "source": [
    "**Answer**\n",
    "\n",
    "<font color = \"blue\">\n",
    "\n",
    "\n",
    "a) is false because we have **TODO** not valid for lagrangian\n",
    "\n",
    "$$ \\vert \\langle \\lambda_{\\pi_{\\lambda^k}} - \\lambda_k , r\\rangle \\vert \\le (1 - \\gamma)^{-1} \\Vert (1 - \\gamma)\\mu - (E - \\gamma P)^{\\top} \\lambda_k\\Vert_1 \\Vert r \\Vert_{\\infty}$$\n",
    "\n",
    "but if we take $\\gamma$ to 1, the bound does not provide any useful information.\n",
    "\n",
    "\n",
    "b) is false because $(1 - \\gamma)$ is missing in front of $\\langle \\mu, V^k \\rangle$.\n",
    "\n",
    "By elimination, c) is correct (see proof below)"
   ]
  },
  {
   "cell_type": "markdown",
   "id": "a2c3888a",
   "metadata": {},
   "source": [
    "### $\\star$ Question [20 points]"
   ]
  },
  {
   "cell_type": "markdown",
   "id": "b4ae7c9b",
   "metadata": {},
   "source": [
    "Prove that the answer you gave at the question above implies that the policy $$\\pi_{\\lambda_k}(a |s) = \\frac{\\lambda_k(s,a)} {\\sum_{a\\in\\mathcal{A}}\\lambda^k(s,a)}$$ is $\\epsilon$-suboptimal.\n",
    "*Recall:* A policy $\\pi$ is $\\epsilon$-suboptimal if $ (1 - \\gamma)  \\langle\\mu , V^\\star - V^{\\pi} \\rangle\\leq \\epsilon$"
   ]
  },
  {
   "cell_type": "markdown",
   "id": "c7af7ba6",
   "metadata": {},
   "source": [
    " **Answer**\n",
    "\n",
    " <font color = \"blue\">\n",
    "\n",
    "\n",
    " First, notice that \n",
    "\n",
    " $$\n",
    "\\mathcal{L}(\\lambda^{\\star}, V^k) = \\langle \\lambda^{\\star}, r \\rangle + \\langle (1 - \\gamma) \\mu + \\gamma P^T \\lambda^{\\star} - E^T \\lambda, V^k \\rangle \n",
    " $$\n",
    "\n",
    " As $\\lambda^{\\star}$ is optimal, the following properties hold:\n",
    "\n",
    "* $\\langle \\lambda^{\\star}, r \\rangle = (1 - \\gamma) \\langle \\mu, V^{\\star} \\rangle$ \n",
    "* $E^{\\top} \\lambda^{\\star} = (1 - \\gamma) \\mu + \\gamma P^{\\top} \\lambda^{\\star}$\n",
    "\n",
    "So the second term in $\\mathcal{L}$ vanishes ($\\langle 0, V_k \\rangle = 0$) and we are left with:\n",
    "\n",
    "$$\n",
    "\\mathcal{L}(\\lambda^{\\star}, V^k) =  (1 - \\gamma) \\langle \\mu, V^{\\star} \\rangle\n",
    "$$\n",
    "\n",
    "We can then write\n",
    "\n",
    "$$\n",
    "\\mathcal{L}(\\lambda^\\star, V^k) - \\mathcal{L}(\\lambda^k, V^{\\pi^{\\lambda^k}}) =  (1 - \\gamma) \\langle \\mu, V^{\\star} \\rangle \n",
    "- [\\langle \\lambda^k, r \\rangle + \\langle (1 - \\gamma) \\mu + \\gamma P^T \\lambda^k - E^T \\lambda^k, V^{\\pi^{\\lambda^k}} \\rangle]\n",
    "$$\n",
    "\n",
    "By rearranging the terms and using the fact that $\\langle \\lambda^k, r \\rangle \\approx  (1 - \\gamma)\\langle \\mu, V^{\\pi_{\\lambda^k}} \\rangle$ if `maxiter` is high enough, as proved above:\n",
    "\n",
    "$$\n",
    "\\mathcal{L}(\\lambda^\\star, V^k) - \\mathcal{L}(\\lambda^k, V^{\\pi^{\\lambda^k}}) =\n",
    "(1 - \\gamma)  \\langle\\mu , V^\\star - V^{\\pi^{\\lambda^k}} \\rangle - \\langle (1 - \\gamma)\\mu - (E - \\gamma P)^{\\top} \\lambda^k, V^{\\pi^{\\lambda^k}} \\rangle\n",
    "$$\n",
    "\n",
    "We can bound the second term with Holder's inequality:\n",
    "\n",
    "$$\n",
    "\\vert \\langle (1 - \\gamma)\\mu - (E - \\gamma P)^{\\top} \\lambda^k, V^{\\pi^{\\lambda^k}} \\rangle \\vert \\le \\Vert (1 - \\gamma)\\mu - (E - \\gamma P)^{\\top} \\lambda^k \\Vert_1 \\Vert V^{\\pi^{\\lambda^k}} \\Vert_{\\infty}\n",
    "\\le \\Vert (1 - \\gamma)\\mu - (E - \\gamma P)^{\\top} \\lambda^k \\Vert_1 \\frac{\\Vert r \\Vert_{\\infty}}{1 - \\gamma}\n",
    "$$\n",
    "\n",
    "Remember that the term $\\Vert (1 - \\gamma)\\mu - (E - \\gamma P)^{\\top} \\lambda^k \\Vert_1$ vanishes if we set `maxiter` high enough to converge so the second term vanishes because $\\frac{\\Vert r \\Vert_{\\infty}}{1 - \\gamma}$ is finite as we minimize over a restricted domain $\\mathcal{V} = \\{ V : ||V||_{\\infty} \\leq \\frac{\\max_{s,a} |r(s,a)|}{1 - \\gamma} \\}$.\n",
    "\n",
    "In conclusion:\n",
    "\n",
    "$$\n",
    "(1 - \\gamma)  \\langle\\mu , V^\\star - V^{\\pi^{\\lambda^k}} \\rangle = \\mathcal{L}(\\lambda^\\star, V^k) - \\mathcal{L}(\\lambda^k, V^{\\pi^{\\lambda^k}}) \\le \\epsilon\n",
    "$$"
   ]
  },
  {
   "cell_type": "markdown",
   "id": "a0150249",
   "metadata": {},
   "source": [
    "We start from: $$\\mathcal{L}(\\lambda^\\star, V^k) - \\mathcal{L}(\\lambda^k, V^{\\pi_{\\lambda^k}}) \\le \\varepsilon$$\n",
    "\n",
    "I start by exploring the first term:\n",
    "$$\\mathcal{L}(\\lambda^{\\star}, V^k) = \\langle \\lambda^{\\star}, r \\rangle + \\langle (1 - \\gamma) \\mu + \\gamma P^T \\lambda^{\\star} - E^T \\lambda^\\star, V^k \\rangle$$\n",
    "\n",
    "Because $\\lambda^\\star$ is optimal, we have following properties:\n",
    "1.  $\\langle \\lambda^\\star, r \\rangle = (1 - \\gamma)\\langle \\mu, V^\\star \\rangle$\n",
    "2.  $(1 - \\gamma) \\mu + \\gamma P^T \\lambda^{\\star} - E^T \\lambda^\\star = 0$ \n",
    "3.  $ \\nabla_{\\lambda} \\mathcal{L}(\\lambda^\\star, V^k) = 0 \\Rightarrow r + \\gamma P^T V - E^T V = 0$\n",
    "\n",
    "From 1. and 2. and since $ \\langle 0, V^k \\rangle = 0$; we can rewrite this term as: $$\\mathcal{L}(\\lambda^{\\star}, V^k) = (1 - \\gamma)\\langle \\mu, V^\\star \\rangle$$\n",
    "\n",
    "Studying the second term:\n",
    "$$\\mathcal{L}(\\lambda^k, V^{\\pi_{\\lambda^k}}) = \\langle \\lambda^k, r \\rangle + \\langle (1 - \\gamma) \\mu + \\gamma P^T \\lambda^k - E^T \\lambda^k, V^{\\pi_{\\lambda^k}} \\rangle$$\n",
    "\n",
    "Since we proved in previous exercices that the *Primal Linear Programming* was linked to the *REPS algorithm* on which our current policy works we have that:\n",
    "$$EV \\ge r + \\gamma P V $$\n",
    "\n",
    "By developping this a little we have:\n",
    "\\begin{align}\n",
    "0 &\\ge \\gamma P V^\\pi - E V^\\pi + r \\\\\n",
    "&\\ge \\langle \\gamma P V^\\pi - E V^\\pi, \\lambda^k \\rangle + \\langle r, \\lambda^k \\rangle = \\langle \\gamma P^T \\lambda^k - E^T \\lambda^k, V^\\pi \\rangle + \\langle r, \\lambda^k \\rangle\\\\\n",
    "(1 - \\gamma)\\langle \\mu, V^\\pi \\rangle &\\ge \\langle \\lambda^k, r \\rangle + (1 - \\gamma)\\langle \\mu, V^\\pi \\rangle + \\langle \\gamma P^T \\lambda^k - E^T \\lambda^k, V^{\\pi} \\rangle\\\\\n",
    "(1 - \\gamma)\\langle \\mu, V^\\pi \\rangle &\\ge \\langle \\lambda^k, r \\rangle + \\langle (1 - \\gamma) \\mu + \\gamma P^T \\lambda^k - E^T \\lambda^k, V^{\\pi_{\\lambda^k}} \\rangle\\\\\n",
    "(1 - \\gamma)\\langle \\mu, V^\\pi \\rangle &\\ge \\mathcal{L}(\\lambda^k, V^\\pi_{\\lambda^k}) & \\text{Since the used policy is } \\pi_{\\lambda^k}\\\\\n",
    "'- (1 - \\gamma)\\langle \\mu, V^\\pi \\rangle &\\le - \\mathcal{L}(\\lambda^k, V^\\pi_{\\lambda^k})\n",
    "\\end{align}\n",
    "\n",
    "By combining both terms, we obtain:\n",
    "$$(1 - \\gamma)  \\langle\\mu , V^\\star - V^{\\pi} \\rangle = (1 - \\gamma)  \\langle\\mu , V^\\star\\rangle - (1 - \\gamma) \\langle \\mu, V^{\\pi} \\rangle \\le \\mathcal{L}(\\lambda^\\star, V^k) - \\mathcal{L}(\\lambda^k, V^{\\pi_{\\lambda^k}}) \\leq \\varepsilon$$\n",
    "\n",
    "The key inequality obtained from the Lagrangian formulation directly implies that the policy $\\pi_{\\lambda^k} is $\\varepsilon$-suboptimal. This confirms that our policy is near-optimal within an $\\varepsilon$-margin."
   ]
  }
 ],
 "metadata": {
  "kernelspec": {
   "display_name": "Python 3",
   "language": "python",
   "name": "python3"
  },
  "language_info": {
   "codemirror_mode": {
    "name": "ipython",
    "version": 3
   },
   "file_extension": ".py",
   "mimetype": "text/x-python",
   "name": "python",
   "nbconvert_exporter": "python",
   "pygments_lexer": "ipython3",
   "version": "3.10.11"
  },
  "widgets": {
   "application/vnd.jupyter.widget-state+json": {
    "state": {},
    "version_major": 2,
    "version_minor": 0
   }
  }
 },
 "nbformat": 4,
 "nbformat_minor": 5
}
